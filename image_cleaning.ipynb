{
 "cells": [
  {
   "cell_type": "code",
   "execution_count": null,
   "metadata": {},
   "outputs": [],
   "source": [
    "from PIL import Image, ImageOps\n",
    "\n",
    "def add_padding(image_path, top, bottom, left, right, color=(0, 0, 0)):\n",
    "    \n",
    "    image = Image.open(image_path)\n",
    "    width, height = image.size\n",
    "    new_width = width + left + right\n",
    "    new_height = height + top + bottom\n",
    "    new_image = Image.new(image.mode, (new_width, new_height), color)\n",
    "    new_image.paste(image, (left, top))\n",
    "    return new_image\n",
    "\n",
    "image_path = \"cleaning test image/sad_cat.jpg\"\n",
    "padded_image = add_padding(image_path, 50, 50, 20, 20, (255, 255, 255)) # White padding\n",
    "padded_image.save(\"cleaning_test_output/padded_cat.jpg\")\n",
    "\n",
    "\n"
   ]
  },
  {
   "cell_type": "code",
   "execution_count": 12,
   "metadata": {},
   "outputs": [],
   "source": [
    "image = Image.open(\"cleaning test image/sad_cat.jpg\")\n",
    "image = image.resize((224, 224))\n",
    "image.save((\"cleaning_test_output/resized_cat.jpg\"))"
   ]
  }
 ],
 "metadata": {
  "kernelspec": {
   "display_name": "test",
   "language": "python",
   "name": "python3"
  },
  "language_info": {
   "codemirror_mode": {
    "name": "ipython",
    "version": 3
   },
   "file_extension": ".py",
   "mimetype": "text/x-python",
   "name": "python",
   "nbconvert_exporter": "python",
   "pygments_lexer": "ipython3",
   "version": "3.10.14"
  }
 },
 "nbformat": 4,
 "nbformat_minor": 2
}
