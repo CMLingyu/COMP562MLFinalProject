{
 "cells": [
  {
   "cell_type": "code",
   "execution_count": 1,
   "metadata": {},
   "outputs": [],
   "source": [
    "from PIL import Image, ImageOps\n",
    "\n",
    "def add_padding(image_path, top, bottom, left, right, color=(0, 0, 0)):\n",
    "    \n",
    "    image = Image.open(image_path)\n",
    "    width, height = image.size\n",
    "    new_width = width + left + right\n",
    "    new_height = height + top + bottom\n",
    "    new_image = Image.new(image.mode, (new_width, new_height), color)\n",
    "    new_image.paste(image, (left, top))\n",
    "    return new_image\n",
    "\n",
    "image_path = \"cleaning test image/sad_cat.jpg\"\n",
    "padded_image = add_padding(image_path, 0, 0, 20, 20, (255, 255, 255)) # White padding\n",
    "padded_image.save(\"cleaning_test_output/padded_cat.jpg\")\n",
    "\n",
    "\n"
   ]
  },
  {
   "cell_type": "code",
   "execution_count": 2,
   "metadata": {},
   "outputs": [],
   "source": [
    "image = Image.open(\"cleaning test image/sad_cat.jpg\")\n",
    "image = image.resize((224, 224))\n",
    "image.save((\"cleaning_test_output/resized_cat.jpg\"))"
   ]
  },
  {
   "cell_type": "code",
   "execution_count": null,
   "metadata": {},
   "outputs": [],
   "source": [
    "from PIL import Image\n",
    "import os\n",
    "\n",
    "# Specify the folder path containing your images\n",
    "folder_path = 'path/to/your/images'\n",
    "\n",
    "# Loop through all files in the folder\n",
    "for filename in os.listdir(folder_path):\n",
    "    # Check if the file is an image (you can add more extensions if needed)\n",
    "    if filename.lower().endswith(('.png', '.jpg', '.jpeg', '.gif', '.bmp')):\n",
    "        try:\n",
    "            # Construct full file path\n",
    "            file_path = os.path.join(folder_path, filename)\n",
    "            \n",
    "            # Open the image using PIL\n",
    "            with Image.open(file_path) as img:\n",
    "                # Process the image here\n",
    "                print(f\"Processing: {filename}\")\n",
    "                print(f\"Size: {img.size}\")\n",
    "                print(f\"Format: {img.format}\")\n",
    "                print(f\"Mode: {img.mode}\")\n",
    "                \n",
    "                # Example: Convert to grayscale\n",
    "                # gray_img = img.convert('L')\n",
    "                # gray_img.save(os.path.join(folder_path, 'gray_' + filename))\n",
    "                \n",
    "        except Exception as e:\n",
    "            print(f\"Error processing {filename}: {e}\")"
   ]
  }
 ],
 "metadata": {
  "kernelspec": {
   "display_name": "test",
   "language": "python",
   "name": "python3"
  },
  "language_info": {
   "codemirror_mode": {
    "name": "ipython",
    "version": 3
   },
   "file_extension": ".py",
   "mimetype": "text/x-python",
   "name": "python",
   "nbconvert_exporter": "python",
   "pygments_lexer": "ipython3",
   "version": "3.10.14"
  }
 },
 "nbformat": 4,
 "nbformat_minor": 2
}
